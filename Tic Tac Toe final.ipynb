{
 "cells": [
  {
   "cell_type": "code",
   "execution_count": 19,
   "id": "f0dbe9e9",
   "metadata": {},
   "outputs": [],
   "source": [
    "from IPython.display import clear_output\n",
    "\n",
    "def display_board(board):\n",
    "    clear_output() \n",
    "    \n",
    "    print('|'+board[7]+' ' +'|'+' ' +board[8]+' ' +'|'+' ' +board[9]+' ' +'|')\n",
    "    print('|'+board[4]+' ' +'|'+' ' +board[5]+' ' +'|'+' ' +board[6]+' ' +'|')\n",
    "    print('|'+board[1]+' ' +'|'+' ' +board[2]+' ' +'|'+' ' +board[3]+' ' +'|')"
   ]
  },
  {
   "cell_type": "code",
   "execution_count": 20,
   "id": "4ad4e1c8",
   "metadata": {},
   "outputs": [
    {
     "name": "stdout",
     "output_type": "stream",
     "text": [
      "|X | O | X |\n",
      "|O | X | O |\n",
      "|X | O | X |\n"
     ]
    }
   ],
   "source": [
    "sample_board = ['#','X','O','X','O','X','O','X','O','X']\n",
    "display_board(sample_board)"
   ]
  },
  {
   "cell_type": "code",
   "execution_count": 27,
   "id": "134756c7",
   "metadata": {},
   "outputs": [],
   "source": [
    "#take player input to assign 'X' or 'O' to p1 and p2\n",
    "def player_input():\n",
    "    marker = '' #empty string\n",
    "    \n",
    "    while marker != 'X' and marker != 'O':\n",
    "        marker = input('Player 1: Choose X or O: ').upper()\n",
    "\n",
    "    if marker == 'X':\n",
    "        return ('X', 'O')\n",
    "    else:\n",
    "        return ('O', 'X')"
   ]
  },
  {
   "cell_type": "code",
   "execution_count": 29,
   "id": "a72cca3b",
   "metadata": {
    "scrolled": true
   },
   "outputs": [
    {
     "name": "stdout",
     "output_type": "stream",
     "text": [
      "Player 1: Choose X or O: o\n"
     ]
    }
   ],
   "source": [
    "p1_marker , p2_marker = player_input()"
   ]
  },
  {
   "cell_type": "code",
   "execution_count": 31,
   "id": "fdee02d3",
   "metadata": {},
   "outputs": [
    {
     "data": {
      "text/plain": [
       "'O'"
      ]
     },
     "execution_count": 31,
     "metadata": {},
     "output_type": "execute_result"
    }
   ],
   "source": [
    "p1_marker"
   ]
  },
  {
   "cell_type": "code",
   "execution_count": 32,
   "id": "2633e225",
   "metadata": {},
   "outputs": [
    {
     "data": {
      "text/plain": [
       "'X'"
      ]
     },
     "execution_count": 32,
     "metadata": {},
     "output_type": "execute_result"
    }
   ],
   "source": [
    "p2_marker"
   ]
  },
  {
   "cell_type": "code",
   "execution_count": null,
   "id": "fa9e9205",
   "metadata": {},
   "outputs": [],
   "source": [
    "#takes a marker(X or O) and position(1-9). Adds marker to desired position\n",
    "def place_marker(board, marker, position):\n",
    "    board[position] = marker"
   ]
  },
  {
   "cell_type": "code",
   "execution_count": 21,
   "id": "633b9f2b",
   "metadata": {},
   "outputs": [
    {
     "name": "stdout",
     "output_type": "stream",
     "text": [
      "|X | O | X |\n",
      "|O | X | O |\n",
      "|X | Cat | X |\n"
     ]
    }
   ],
   "source": [
    "place_marker(sample_board,'Cat',2)\n",
    "display_board(sample_board)"
   ]
  },
  {
   "cell_type": "code",
   "execution_count": 4,
   "id": "09b0b06a",
   "metadata": {},
   "outputs": [],
   "source": [
    "#check who wins\n",
    "#all rows,columns,diagonals to be checked\n",
    "def win_check(board,mark):\n",
    "    \n",
    "    return ((board[7] == mark and board[8] == mark and board[9] == mark) or \n",
    "    (board[4] == mark and board[5] == mark and board[6] == mark) or \n",
    "    (board[1] == mark and board[2] == mark and board[3] == mark) or\n",
    "    (board[7] == mark and board[4] == mark and board[1] == mark) or \n",
    "    (board[8] == mark and board[5] == mark and board[2] == mark) or \n",
    "    (board[9] == mark and board[6] == mark and board[3] == mark) or \n",
    "    (board[7] == mark and board[5] == mark and board[3] == mark) or \n",
    "    (board[9] == mark and board[5] == mark and board[1] == mark)) "
   ]
  },
  {
   "cell_type": "code",
   "execution_count": 33,
   "id": "313f1888",
   "metadata": {},
   "outputs": [
    {
     "name": "stdout",
     "output_type": "stream",
     "text": [
      "|X | O | X |\n",
      "|O | X | O |\n",
      "|X | Cat | X |\n"
     ]
    },
    {
     "data": {
      "text/plain": [
       "False"
      ]
     },
     "execution_count": 33,
     "metadata": {},
     "output_type": "execute_result"
    }
   ],
   "source": [
    "display_board(sample_board)\n",
    "win_check(sample_board, 'O')"
   ]
  },
  {
   "cell_type": "code",
   "execution_count": 5,
   "id": "fe195ba5",
   "metadata": {},
   "outputs": [],
   "source": [
    "##randomly chooses player who will play first\n",
    "import random\n",
    "\n",
    "def choose_first():\n",
    "    if random.randint(0, 1) == 0:\n",
    "        return 'Player 2'\n",
    "    else:\n",
    "        return 'Player 1'"
   ]
  },
  {
   "cell_type": "code",
   "execution_count": 6,
   "id": "d563ce24",
   "metadata": {},
   "outputs": [],
   "source": [
    "#check if a position on the board is free/empty\n",
    "def emptyspace(board, position):\n",
    "    \n",
    "    return board[position] == ' '"
   ]
  },
  {
   "cell_type": "code",
   "execution_count": 35,
   "id": "446400d8",
   "metadata": {},
   "outputs": [
    {
     "name": "stdout",
     "output_type": "stream",
     "text": [
      "|X | O | X |\n",
      "|O | X | O |\n",
      "|X | Cat | X |\n"
     ]
    },
    {
     "data": {
      "text/plain": [
       "False"
      ]
     },
     "execution_count": 35,
     "metadata": {},
     "output_type": "execute_result"
    }
   ],
   "source": [
    "display_board(sample_board)\n",
    "emptyspace(sample_board, 3)"
   ]
  },
  {
   "cell_type": "code",
   "execution_count": 7,
   "id": "48f7e485",
   "metadata": {},
   "outputs": [],
   "source": [
    "#check if the board is full/occupied\n",
    "def isfull(board):\n",
    "    for i in range(1,10):\n",
    "        if emptyspace(board, i):\n",
    "            return False\n",
    "    return True"
   ]
  },
  {
   "cell_type": "code",
   "execution_count": 34,
   "id": "c273dbd5",
   "metadata": {},
   "outputs": [
    {
     "name": "stdout",
     "output_type": "stream",
     "text": [
      "|X | O | X |\n",
      "|O | X | O |\n",
      "|X | Cat | X |\n"
     ]
    },
    {
     "data": {
      "text/plain": [
       "True"
      ]
     },
     "execution_count": 34,
     "metadata": {},
     "output_type": "execute_result"
    }
   ],
   "source": [
    "display_board(sample_board)\n",
    "isfull(sample_board)"
   ]
  },
  {
   "cell_type": "code",
   "execution_count": 11,
   "id": "a3583c3b",
   "metadata": {},
   "outputs": [],
   "source": [
    "def player_choice(board):\n",
    "    position = 0\n",
    "    \n",
    "    while position not in [1,2,3,4,5,6,7,8,9] or not emptyspace(board, position):\n",
    "        position = int(input('Enter a position from 1 to 9: '))\n",
    "        \n",
    "    return position"
   ]
  },
  {
   "cell_type": "code",
   "execution_count": 9,
   "id": "9e7dc840",
   "metadata": {},
   "outputs": [],
   "source": [
    "#ask players if they want to play the game again\n",
    "def replay():\n",
    "    \n",
    "    return input('Do you want to play again? Enter Yes or No: ').lower().startswith('y')"
   ]
  },
  {
   "cell_type": "code",
   "execution_count": 37,
   "id": "f34988a1",
   "metadata": {},
   "outputs": [
    {
     "name": "stdout",
     "output_type": "stream",
     "text": [
      "|O | X | O |\n",
      "|X | X | O |\n",
      "|O | O | X |\n",
      "The game has tied \n",
      "Do you want to play again? Enter Yes or No: n\n"
     ]
    }
   ],
   "source": [
    "#running the game\n",
    "print('Welcome to my Tic Tac Toe game made in Python!')\n",
    "\n",
    "while True:\n",
    "    # Reset the board\n",
    "    main_board = [' '] * 10\n",
    "    p1_marker, p2_marker = player_input()\n",
    "    turn = choose_first()\n",
    "    print(turn + ' will start the game first.')\n",
    "    \n",
    "    play_game = input('Are you ready to start? Yes or No ')\n",
    "    \n",
    "    if play_game.lower()[0] == 'y':\n",
    "        game_run = True\n",
    "    else:\n",
    "        game_run = False\n",
    "\n",
    "    while game_run:\n",
    "        if turn == 'Player 1':\n",
    "            # Player 1 plays\n",
    "            \n",
    "            display_board(main_board)\n",
    "            position = player_choice(main_board)\n",
    "            place_marker(main_board, p1_marker, position)\n",
    "\n",
    "            if win_check(main_board, p1_marker):\n",
    "                display_board(main_board)\n",
    "                print('Player 1 is the winner!')\n",
    "                game_run = False\n",
    "            else:\n",
    "                if isfull(main_board):\n",
    "                    display_board(main_board)\n",
    "                    print('The game has tied')\n",
    "                    break\n",
    "                else:\n",
    "                    turn = 'Player 2'\n",
    "\n",
    "        else:\n",
    "            # Player 2 plays\n",
    "            \n",
    "            display_board(main_board)\n",
    "            position = player_choice(main_board)\n",
    "            place_marker(main_board, p2_marker, position)\n",
    "\n",
    "            if win_check(main_board, p2_marker):\n",
    "                display_board(main_board)\n",
    "                print('Player 2 is the winner!')\n",
    "                game_run = False\n",
    "            else:\n",
    "                if isfull(main_board):\n",
    "                    display_board(main_board)\n",
    "                    print('The game has tied ')\n",
    "                    break\n",
    "                else:\n",
    "                    turn = 'Player 1'\n",
    "\n",
    "    if not replay():\n",
    "        break"
   ]
  },
  {
   "cell_type": "code",
   "execution_count": null,
   "id": "e8bf5693",
   "metadata": {},
   "outputs": [],
   "source": []
  }
 ],
 "metadata": {
  "kernelspec": {
   "display_name": "Python 3 (ipykernel)",
   "language": "python",
   "name": "python3"
  },
  "language_info": {
   "codemirror_mode": {
    "name": "ipython",
    "version": 3
   },
   "file_extension": ".py",
   "mimetype": "text/x-python",
   "name": "python",
   "nbconvert_exporter": "python",
   "pygments_lexer": "ipython3",
   "version": "3.9.12"
  }
 },
 "nbformat": 4,
 "nbformat_minor": 5
}
